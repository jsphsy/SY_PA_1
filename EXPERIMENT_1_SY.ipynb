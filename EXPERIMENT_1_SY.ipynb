{
 "cells": [
  {
   "cell_type": "code",
   "execution_count": 1,
   "id": "d4fd96b2-bce2-4a36-92f7-8f028998ba5d",
   "metadata": {},
   "outputs": [],
   "source": [
    "#ALPHABET SOUP PROBLEM\n",
    "def alphabet_soup(text):\n",
    "    \n",
    "    #Takes a string and returns a new string with the letters arranged in alphabetical order\n",
    "    return ''.join(sorted(text))\n",
    "\n",
    "    #EXAMPLES\n",
    "    print (alphabet_soup(\"hello\"))     # \"ehllo\"\n",
    "    print (alphabet_soup(\"python\"))     # \"hnopty\"\n",
    "    print (alphabet_soup(\"alphabetical\"))     # \"aaabcehillpt\"\n",
    "    print (alphabet_soup(\"Anaconda\"))     # \"Aaacnond\" (Uppercase letters come before lowercase letters)"
   ]
  },
  {
   "cell_type": "code",
   "execution_count": 2,
   "id": "61f955f6-2dcb-4277-98f1-dcb6df017d47",
   "metadata": {},
   "outputs": [
    {
     "name": "stdout",
     "output_type": "stream",
     "text": [
      "ehjops\n"
     ]
    }
   ],
   "source": [
    "print (alphabet_soup(\"joseph\"))"
   ]
  },
  {
   "cell_type": "code",
   "execution_count": 3,
   "id": "b1168636-e73a-4c4b-985a-f9fd044f62e2",
   "metadata": {},
   "outputs": [
    {
     "name": "stdout",
     "output_type": "stream",
     "text": [
      " EEcceeeggiiilnnnnorrst\n"
     ]
    }
   ],
   "source": [
    "print (alphabet_soup(\"Electronics Engineering\"))"
   ]
  },
  {
   "cell_type": "code",
   "execution_count": 4,
   "id": "a82dfac1-b415-4228-9044-777a2cc93e06",
   "metadata": {},
   "outputs": [
    {
     "name": "stdout",
     "output_type": "stream",
     "text": [
      "JLabeprtuy\n"
     ]
    }
   ],
   "source": [
    "print (alphabet_soup(\"JupyterLab\"))"
   ]
  },
  {
   "cell_type": "code",
   "execution_count": 5,
   "id": "33a90292-461a-4105-9695-6cf681448b63",
   "metadata": {},
   "outputs": [],
   "source": [
    "#EMOTICON PROBLEM\n",
    "def emotify(text):\n",
    "    #Replaces specific words in a text with their corresponding emoticons\n",
    "    emoticons = {\n",
    "        \"smile\": \":)\",\n",
    "        \"grin\": \":D\",\n",
    "        \"sad\": \":((\",\n",
    "        \"mad\": \">:(\",\n",
    "    }\n",
    "    \n",
    "    #Split the text into words\n",
    "    words = text.split()\n",
    "\n",
    "    #Replace words with emoticons where applicable\n",
    "    for i in range(len(words)):\n",
    "        #Check if the word (lowercase) is in our emoticon dictionary\n",
    "        if words[i].lower() in emoticons:\n",
    "            words[i] = emoticons[words[i].lower()]\n",
    "\n",
    "    #Join the words back into a sentence\n",
    "    return \" \".join(words)\n",
    "\n",
    "    #EXAMPLES\n",
    "print(emotify(\"Make me smile\"))                  # \"Make me :)\"\n",
    "print(emotify(\"I am sad and you are mad\"))       # \"I am :(( and you are >:(\"\n",
    "print(emotify(\"Make me grin and then smile\"))    # \"Make me :D and then :)\"\n",
    "print(emotify(\"No emoticons in this sentence\"))  # \"No emoticons in this sentence\""
   ]
  },
  {
   "cell_type": "code",
   "execution_count": 6,
   "id": "3aa52f87-0207-4cfe-b2d8-3e2cfdfb5614",
   "metadata": {},
   "outputs": [
    {
     "name": "stdout",
     "output_type": "stream",
     "text": [
      "It makes me :((\n"
     ]
    }
   ],
   "source": [
    "print(emotify(\"It makes me sad\"))"
   ]
  },
  {
   "cell_type": "code",
   "execution_count": 8,
   "id": "a59f8472-babb-41e0-a78b-2115ab2e8f24",
   "metadata": {},
   "outputs": [
    {
     "name": "stdout",
     "output_type": "stream",
     "text": [
      "Are you >:( ?\n"
     ]
    }
   ],
   "source": [
    "print(emotify(\"Are you mad ?\"))"
   ]
  },
  {
   "cell_type": "code",
   "execution_count": 9,
   "id": "6dd704ac-3d7c-4fd9-9a4b-8c94c0048039",
   "metadata": {},
   "outputs": [
    {
     "name": "stdout",
     "output_type": "stream",
     "text": [
      "What you did made me :D\n"
     ]
    }
   ],
   "source": [
    "print(emotify(\"What you did made me grin\"))"
   ]
  },
  {
   "cell_type": "code",
   "execution_count": 10,
   "id": "3222e882-9a6e-4bd4-9f4b-2539182afc16",
   "metadata": {},
   "outputs": [
    {
     "name": "stdout",
     "output_type": "stream",
     "text": [
      "Your :) is my happiness\n"
     ]
    }
   ],
   "source": [
    "print(emotify(\"Your smile is my happiness\"))"
   ]
  },
  {
   "cell_type": "code",
   "execution_count": 21,
   "id": "70bfb3ac-b454-40f4-bb4b-d1a8cce143b6",
   "metadata": {},
   "outputs": [],
   "source": [
    "#UNPACKING LIST PROBLEM\n",
    "def unpack_list(input_list):\n",
    "    #Unpacks a list into three variables: first, middle, and last. Middle contains all elements between first and last.\n",
    "\n",
    "    #Check if the list has at least 2 elements\n",
    "    if len(input_list) < 2:\n",
    "        print(\"List needs at least 2 elements to unpack properly\")\n",
    "        return None, [], None\n",
    "\n",
    "    #Unpack the list\n",
    "    first, *middle, last = input_list\n",
    "\n",
    "    #Print the variables\n",
    "    print(f\"First: {first}\")\n",
    "    print(f\"Middle: {middle}\")\n",
    "    print(f\"last: {last}\")\n",
    "\n",
    "    return first, middle, last"
   ]
  },
  {
   "cell_type": "code",
   "execution_count": 23,
   "id": "1ce66346-29a4-4e2b-ab00-36d5f1c89b10",
   "metadata": {},
   "outputs": [],
   "source": [
    "list1 = [1, 2, 3, 4, 5, 6]"
   ]
  },
  {
   "cell_type": "code",
   "execution_count": 24,
   "id": "511c3118-d050-4641-8f7f-7d38e22edcef",
   "metadata": {},
   "outputs": [
    {
     "name": "stdout",
     "output_type": "stream",
     "text": [
      "First: 1\n",
      "Middle: [2, 3, 4, 5]\n",
      "last: 6\n"
     ]
    },
    {
     "data": {
      "text/plain": [
       "(1, [2, 3, 4, 5], 6)"
      ]
     },
     "execution_count": 24,
     "metadata": {},
     "output_type": "execute_result"
    }
   ],
   "source": [
    "unpack_list(list1)"
   ]
  }
 ],
 "metadata": {
  "kernelspec": {
   "display_name": "Python [conda env:base] *",
   "language": "python",
   "name": "conda-base-py"
  },
  "language_info": {
   "codemirror_mode": {
    "name": "ipython",
    "version": 3
   },
   "file_extension": ".py",
   "mimetype": "text/x-python",
   "name": "python",
   "nbconvert_exporter": "python",
   "pygments_lexer": "ipython3",
   "version": "3.13.5"
  }
 },
 "nbformat": 4,
 "nbformat_minor": 5
}
